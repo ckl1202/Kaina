{
 "cells": [
  {
   "cell_type": "markdown",
   "metadata": {},
   "source": [
    "# FRAMEWORK"
   ]
  },
  {
   "cell_type": "code",
   "execution_count": 1,
   "metadata": {
    "collapsed": false
   },
   "outputs": [],
   "source": [
    "import pandas as pd\n",
    "import pandas.io.data as web\n",
    "import numpy as np\n",
    "import talib as ta\n",
    "import sklearn as sk\n",
    "from sklearn import svm\n",
    "import scipy.stats as st\n",
    "import matplotlib.pyplot as plt"
   ]
  },
  {
   "cell_type": "code",
   "execution_count": 2,
   "metadata": {
    "collapsed": false
   },
   "outputs": [],
   "source": [
    "aapl = web.get_data_yahoo('AAPL','1/1/2010','6/1/2012')\n",
    "frame = pd.DataFrame(aapl)\n",
    "Close = np.array(frame['Close'])\n",
    "High = np.array(frame['High'])\n",
    "Low = np.array(frame['Low'])"
   ]
  },
  {
   "cell_type": "code",
   "execution_count": 3,
   "metadata": {
    "collapsed": true
   },
   "outputs": [],
   "source": [
    "def DIFF(data):\n",
    "    diff_data = np.empty(data.shape)\n",
    "    diff_data[1:] = data[1:] - data[:-1]\n",
    "    return diff_data"
   ]
  },
  {
   "cell_type": "code",
   "execution_count": 4,
   "metadata": {
    "collapsed": false
   },
   "outputs": [],
   "source": [
    "K,D = ta.STOCHF(High,Low,Close,fastk_period=9,fastd_period=3,fastd_matype=0)\n",
    "J = 3*K-2*D\n",
    "KD = DIFF(K)\n",
    "DD = DIFF(D)\n",
    "JD = DIFF(J)\n",
    "DIF,DEA,HIST = ta.MACD(Close, fastperiod=12, slowperiod=26,signalperiod=9)\n",
    "DIFD = DIFF(DIF)\n",
    "DEAD = DIFF(DEA)\n",
    "HIST = DIFF(HIST)\n",
    "MA = ta.MA(Close,timeperiod = 10)\n",
    "MAD = DIFF(MA)"
   ]
  },
  {
   "cell_type": "code",
   "execution_count": 5,
   "metadata": {
    "collapsed": false
   },
   "outputs": [],
   "source": [
    "plt.figure()\n",
    "plt.plot(J)\n",
    "plt.show()"
   ]
  },
  {
   "cell_type": "code",
   "execution_count": null,
   "metadata": {
    "collapsed": true
   },
   "outputs": [],
   "source": []
  }
 ],
 "metadata": {
  "kernelspec": {
   "display_name": "Python 2",
   "language": "python",
   "name": "python2"
  },
  "language_info": {
   "codemirror_mode": {
    "name": "ipython",
    "version": 2
   },
   "file_extension": ".py",
   "mimetype": "text/x-python",
   "name": "python",
   "nbconvert_exporter": "python",
   "pygments_lexer": "ipython2",
   "version": "2.7.10"
  }
 },
 "nbformat": 4,
 "nbformat_minor": 0
}
